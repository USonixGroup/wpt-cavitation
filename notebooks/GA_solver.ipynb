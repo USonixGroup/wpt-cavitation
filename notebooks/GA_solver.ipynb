{
 "cells": [
  {
   "cell_type": "markdown",
   "metadata": {},
   "source": [
    "# Solving bubble dynamics with the Gilmore-Akulichev model\n",
    "\n",
    "This notebook provides an example for simulating bubble dynamics and calculating the radiated pressure using the BubbleDynamics class."
   ]
  },
  {
   "cell_type": "code",
   "execution_count": null,
   "metadata": {},
   "outputs": [],
   "source": [
    "import sys\n",
    "\n",
    "sys.path.append(\"..\")\n",
    "from wavelet_transform.utils.bubbledynamics import BubbleDynamics as BD\n",
    "import numpy as np\n",
    "import plotly.express as px\n",
    "from IPython.display import display"
   ]
  },
  {
   "cell_type": "markdown",
   "metadata": {},
   "source": [
    "Define the sonication parameters and the initial bubble radius and velocity. By default, we consider a vapour bubble in an unbounded aqueous medium at room temperature (20 C). The sonication signal is considered to be a monotone signal as follows: $~p_{ac} \\times sin(2 \\pi f t)$. "
   ]
  },
  {
   "cell_type": "code",
   "execution_count": null,
   "metadata": {},
   "outputs": [],
   "source": [
    "pac = 1e6  # the amplitude of the sine wave in Pa\n",
    "f0_frequency = 1.1* 1e6  # insonation frequency (Hz)\n",
    "period = 1 / f0_frequency # the period of the acoustic wave at the fundamental frequency \n",
    "no_cycle = 10  # no. of cycles of the sine wave\n",
    "fs = f0_frequency * 1e3  # sampling rate to generate the time vector\n",
    "\n",
    "time_delay = 0#4 * period  # time delay, t1\n",
    "pulse_width = 10 * no_cycle * period  # pulse width, W = 1 / Q\n",
    "phase_initial = 0#-0.325 * period  # tau\n",
    "phase_shift = 0#np.pi / 4  # phi\n",
    "no_harmonics = 1   # k\n",
    "\n",
    "\n",
    "deltat = 1.0 / fs\n",
    "tmax = no_cycle * period\n",
    "time = np.arange(\n",
    "    0.0, tmax, deltat\n",
    ")  # time vector for computing the sine wave, in seconds\n",
    "\n",
    "\n",
    "# R_init = 0.523e-6  # initial bubble radius in meters\n",
    "R_init = 30e-6  # initial bubble radius in meters\n",
    "Rdot_init = 0  # initial bubble's wall velocity in m/s\n",
    "\n",
    "r_measure = 1e-4 # distance from the centre of bubble which radiated pressure (acoustic emission from bubble) is calculated over time"
   ]
  },
  {
   "cell_type": "markdown",
   "metadata": {},
   "source": [
    "Setting up the bubble dynamics object for the above parameters."
   ]
  },
  {
   "cell_type": "code",
   "execution_count": null,
   "metadata": {},
   "outputs": [],
   "source": [
    "BD_obj = BD(\n",
    "    R_init=R_init,\n",
    "    Rdot_init = Rdot_init,\n",
    "    frequency = f0_frequency,\n",
    "    pac = pac,\n",
    "    time_delay = time_delay,\n",
    "    pulse_width = pulse_width,\n",
    "    phase_initial = phase_initial,\n",
    "    phase_shift = phase_shift,\n",
    "    no_harmonics = no_harmonics,\n",
    "    time = time,\n",
    "    deltat = deltat,\n",
    ")"
   ]
  },
  {
   "cell_type": "code",
   "execution_count": null,
   "metadata": {},
   "outputs": [],
   "source": [
    "BD_obj.initialize()"
   ]
  },
  {
   "cell_type": "code",
   "execution_count": null,
   "metadata": {},
   "outputs": [],
   "source": [
    "print(\"The resonance frequency of this bubble is: {0:.4f} MHz,\\nIt is {1:.4f} times of the excitation frequency.\".format(\n",
    "    BD_obj.resonance_frequency * 1e-6, BD_obj.resonance_frequency/f0_frequency))"
   ]
  },
  {
   "cell_type": "code",
   "execution_count": null,
   "metadata": {},
   "outputs": [],
   "source": [
    "print(\"The resonance period of this bubble is: {0:.4f} times of the excitation period\".format(1/BD_obj.resonance_frequency / period))"
   ]
  },
  {
   "cell_type": "code",
   "execution_count": null,
   "metadata": {},
   "outputs": [],
   "source": [
    "fig = px.line(\n",
    "    x=BD_obj.time / period, y=BD_obj.npac_wave * BD_obj.medium_parameters[\"p0\"] / 1e6\n",
    ")\n",
    "fig.update_layout(\n",
    "    font_family=\"Arial\",\n",
    "    xaxis=dict(title=\"time in periods [t/T]\"),\n",
    "    yaxis=dict(title=\"acoustic pressure [MPa]\"),\n",
    "    title=\"Incident sound wave\"\n",
    ")\n",
    "fig.show()"
   ]
  },
  {
   "cell_type": "markdown",
   "metadata": {},
   "source": [
    "Solve the bubble dynamics modelled by the nonlinear Gilmore ordinary differential equation"
   ]
  },
  {
   "cell_type": "code",
   "execution_count": null,
   "metadata": {},
   "outputs": [],
   "source": [
    "BD_obj.solver()"
   ]
  },
  {
   "cell_type": "markdown",
   "metadata": {},
   "source": [
    "Visualise the results:"
   ]
  },
  {
   "cell_type": "code",
   "execution_count": null,
   "metadata": {},
   "outputs": [],
   "source": [
    "fig = px.line(x=BD_obj.time / period, y=BD_obj.R)\n",
    "fig.update_layout(\n",
    "    xaxis=dict(title=\"time in periods [t/T]\"),\n",
    "    yaxis=dict(title=\"R / R<sub>0</sub> [DL]\"), font_size=16,\n",
    "    title=\"Bubble radius vs time\"\n",
    ")\n",
    "fig.show()"
   ]
  },
  {
   "cell_type": "code",
   "execution_count": null,
   "metadata": {},
   "outputs": [],
   "source": [
    "fig = px.line(x=BD_obj.time, y=BD_obj.Rdot)\n",
    "fig.update_layout(\n",
    "    font_family=\"'Serif\",\n",
    "    xaxis=dict(title=\"time [s]\"),\n",
    "    yaxis=dict(title=\"Relative <span>&#7768;</span> [ <span>&#7768;</span> /R<sub>0</sub> &#969;]\"),\n",
    "    title=\"Bubble radius velocity vs time\",\n",
    "    font_size=12\n",
    ")\n",
    "fig.show()\n",
    "\n",
    "# The HTML coding is used for greek letters and sub/superscripts and overdots in the labels. \n",
    "# The list of unicodes of letters can be found here: https://www.compart.com/en/unicode/U+03C9"
   ]
  },
  {
   "cell_type": "markdown",
   "metadata": {},
   "source": [
    "Now, we can calculate the emitted acoustic wave (measured irradiated pressure) from this oscillating bubble at a distance `r_measure` from the centre of the bubble, as follows"
   ]
  },
  {
   "cell_type": "code",
   "execution_count": null,
   "metadata": {},
   "outputs": [],
   "source": [
    "BD_obj.calculate_p_radiated_vokurka(r_measure=r_measure)\n",
    "BD_obj.calculate_p_radiated(r_measure=r_measure)"
   ]
  },
  {
   "cell_type": "code",
   "execution_count": null,
   "metadata": {},
   "outputs": [],
   "source": [
    "import pandas as pd\n",
    "\n",
    "rad_p_df1 = pd.DataFrame(\n",
    "    data={\n",
    "        \"x\": BD_obj.time,\n",
    "        \"y\": BD_obj.p_radiated_vokurka,\n",
    "        \"name\": \"p_radiated_vokurka\",\n",
    "    }\n",
    ")\n",
    "rad_p_df2 = pd.DataFrame(\n",
    "    data={\n",
    "        \"x\": BD_obj.time,\n",
    "        \"y\": BD_obj.p_radiated,\n",
    "        \"name\": \"p_radiated_akulichev\",\n",
    "    }\n",
    ")\n",
    "rad_p_df = pd.concat([rad_p_df1])  #, rad_p_df2])\n",
    "\n",
    "fig = px.line(rad_p_df,x=\"x\", y=\"y\", color=\"name\")\n",
    "\n",
    "fig.update_layout(\n",
    "    xaxis=dict(title=\"time [s]\"),\n",
    "    yaxis=dict(title=\"Relative radiated pressure [p / p<sub>0</sub>]\"), #r\"$\\text{Relative radiated pressure } [p/p_0]$\"),\n",
    ")\n",
    "fig.show()\n"
   ]
  },
  {
   "cell_type": "code",
   "execution_count": null,
   "metadata": {},
   "outputs": [],
   "source": [
    "import wavelet_transform.utils.statistical_features as st\n",
    "import scipy.signal as ss\n"
   ]
  },
  {
   "cell_type": "code",
   "execution_count": null,
   "metadata": {},
   "outputs": [],
   "source": [
    "sig = ss.detrend(BD_obj.p_radiated_vokurka).copy()"
   ]
  },
  {
   "cell_type": "code",
   "execution_count": null,
   "metadata": {},
   "outputs": [],
   "source": [
    "fft_amp, fft_freq = st.psd(sig, sampling_rate=fs, fundamental_freq=f0_frequency)"
   ]
  },
  {
   "cell_type": "code",
   "execution_count": null,
   "metadata": {},
   "outputs": [],
   "source": [
    "freq_lim = 20\n",
    "freq_index = fft_freq<freq_lim\n",
    "fig_new = px.line(x=fft_freq[freq_index], y=10*np.log10(fft_amp[freq_index]))\n",
    "fig_new.update_layout(\n",
    "    yaxis_range=[-40,70],\n",
    "    xaxis=dict(title=\"Freq [F/F<sub>0</sub>]\"),\n",
    "    yaxis=dict(title=r\"PSD [dB]\"), font_size=16\n",
    ")\n",
    "fig_new.show()"
   ]
  },
  {
   "cell_type": "markdown",
   "metadata": {},
   "source": [
    "Plotting the dynamic phase (R - Rdot plot). The phase space plot can be used to classify the dynamics of cavitation."
   ]
  },
  {
   "cell_type": "code",
   "execution_count": null,
   "metadata": {},
   "outputs": [],
   "source": [
    "from scipy.stats import cauchy, laplace, norm, chi2\n",
    "ch_pdf_data = cauchy.rvs(scale=1,size=100000)\n",
    "lap_pdf_data = laplace.rvs(size=100000)\n",
    "gaus_pdf_data = norm.rvs(scale=1,size=100000)\n",
    "chis_pdf_data = chi2.rvs(df=2,size=100000)"
   ]
  },
  {
   "cell_type": "code",
   "execution_count": null,
   "metadata": {},
   "outputs": [],
   "source": [
    "print('Gaussian pdf data: \\n \\t crest factor: {0}, \\n \\t kurtosis: {1}, \\n \\t spectral entropy: {2}, \\n \\t entropy: {3}, \\n \\t average energy: {4}'.format(\n",
    "    st.crest_factor(gaus_pdf_data), st.kurtosis(gaus_pdf_data),st.spectral_entropy(gaus_pdf_data),st.entropy(gaus_pdf_data), st.avg_energy(gaus_pdf_data)))\n",
    "\n",
    "print('Laplace pdf data: \\n \\t crest factor: {0}, \\n \\t kurtosis: {1}, \\n \\t spectral entropy: {2}, \\n \\t entropy: {3}, \\n \\t average energy: {4}'.format(\n",
    "    st.crest_factor(lap_pdf_data), st.kurtosis(lap_pdf_data),st.spectral_entropy(lap_pdf_data),st.entropy(lap_pdf_data), st.avg_energy(lap_pdf_data)))\n",
    "\n",
    "print('Chisq pdf data: \\n \\t crest factor: {0}, \\n \\t kurtosis: {1}, \\n \\t spectral entropy: {2}, \\n \\t entropy: {3}, \\n \\t average energy: {4}'.format(\n",
    "    st.crest_factor(chis_pdf_data), st.kurtosis(chis_pdf_data),st.spectral_entropy(chis_pdf_data),st.entropy(chis_pdf_data), st.avg_energy(chis_pdf_data)))\n",
    "\n",
    "print('Cauchy pdf data: \\n \\t crest factor: {0}, \\n \\t kurtosis: {1}, \\n \\t spectral entropy: {2}, \\n \\t entropy: {3}, \\n \\t average energy: {4}'.format(\n",
    "    st.crest_factor(ch_pdf_data), st.kurtosis(ch_pdf_data),st.spectral_entropy(ch_pdf_data),st.entropy(ch_pdf_data), st.avg_energy(ch_pdf_data)))\n",
    "\n"
   ]
  }
 ],
 "metadata": {
  "kernelspec": {
   "display_name": "base",
   "language": "python",
   "name": "python3"
  },
  "language_info": {
   "codemirror_mode": {
    "name": "ipython",
    "version": 3
   },
   "file_extension": ".py",
   "mimetype": "text/x-python",
   "name": "python",
   "nbconvert_exporter": "python",
   "pygments_lexer": "ipython3",
   "version": "3.9.12"
  }
 },
 "nbformat": 4,
 "nbformat_minor": 4
}
